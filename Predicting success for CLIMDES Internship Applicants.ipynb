{
 "cells": [
  {
   "cell_type": "markdown",
   "metadata": {},
   "source": [
    "<h1 style=\"text-align: left; color: #3498db;\">Predicting Success for CLIMDES Internship Applicants</h1>\n",
    "\n"
   ]
  },
  {
   "cell_type": "markdown",
   "metadata": {},
   "source": [
    "<h2 style=\"text-align: left; color: #3498db;\">Importing Libraries and Modules</h2>\n",
    "\n"
   ]
  },
  {
   "cell_type": "code",
   "execution_count": 29,
   "metadata": {},
   "outputs": [],
   "source": [
    "import pandas as pd\n",
    "import numpy as np\n",
    "from sklearn.preprocessing import LabelEncoder\n",
    "from sklearn.model_selection import train_test_split\n",
    "from sklearn.linear_model import LogisticRegression\n",
    "from sklearn.metrics import accuracy_score, precision_score, recall_score\n",
    "from sklearn.model_selection import train_test_split, GridSearchCV\n",
    "from sklearn.metrics import accuracy_score\n",
    "from sklearn.metrics import confusion_matrix\n",
    "import matplotlib.pyplot as plt\n",
    "import seaborn as sns\n",
    "import joblib\n",
    "import shap\n"
   ]
  },
  {
   "cell_type": "markdown",
   "metadata": {},
   "source": [
    "<h2 style=\"text-align: left; color: #3498db;\">Applicant Data Simulation</h2>\n"
   ]
  },
  {
   "cell_type": "code",
   "execution_count": 41,
   "metadata": {},
   "outputs": [
    {
     "name": "stdout",
     "output_type": "stream",
     "text": [
      "   Academic Performance (GPA)  Relevant Skills (0-10)  Experience (Months)  \\\n",
      "0                    3.436350                       2                   11   \n",
      "1                    4.876786                       8                   33   \n",
      "2                    4.329985                       4                   35   \n",
      "3                    3.996646                       7                   36   \n",
      "4                    2.890047                       6                    2   \n",
      "\n",
      "   Weekly Hours Available  Laptop Availability  Constant Internet Access  \\\n",
      "0                      35                    0                         0   \n",
      "1                      12                    1                         0   \n",
      "2                      12                    1                         0   \n",
      "3                      10                    1                         1   \n",
      "4                      30                    0                         1   \n",
      "\n",
      "   Internship Success  \n",
      "0                   0  \n",
      "1                   0  \n",
      "2                   0  \n",
      "3                   0  \n",
      "4                   0  \n"
     ]
    }
   ],
   "source": [
    "# Setting a random seed for reproducibility\n",
    "np.random.seed(42)\n",
    "\n",
    "# Number of applicants\n",
    "n_applicants = 3000\n",
    "\n",
    "# Simulating academic performance (e.g., GPA on a scale of 4)\n",
    "academic_performance = np.random.uniform(2.5, 5.0, n_applicants)\n",
    "\n",
    "# Simulating relevant skills (e.g., a score from 0 to 10)\n",
    "relevant_skills = np.random.randint(0, 11, n_applicants)\n",
    "\n",
    "# Simulating years of experience (in months)\n",
    "experience_months = np.random.randint(0, 49, n_applicants)\n",
    "\n",
    "# Simulating weekly hours available (e.g., 10 to 40 hours per week)\n",
    "weekly_hours_available = np.random.randint(10, 41, n_applicants)\n",
    "\n",
    "# Simulating laptop availability (1 for yes, 0 for no)\n",
    "laptop_available = np.random.choice([0, 1], n_applicants)\n",
    "\n",
    "# Simulating constant internet access (1 for yes, 0 for no)\n",
    "internet_access = np.random.choice([0, 1], n_applicants)\n",
    "\n",
    "# Defining success criteria for internship applications\n",
    "# You can customize this based on your specific criteria\n",
    "success = np.where(\n",
    "    (academic_performance >= 3.5) &\n",
    "    (relevant_skills >= 7) &\n",
    "    (experience_months >= 8) &\n",
    "    (weekly_hours_available >= 30) &\n",
    "    (laptop_available == 1) &\n",
    "    (internet_access == 1),\n",
    "    1,\n",
    "    0\n",
    ")\n",
    "\n",
    "# Creating a DataFrame to store the simulated data\n",
    "data = pd.DataFrame({\n",
    "    'Academic Performance (GPA)': academic_performance,\n",
    "    'Relevant Skills (0-10)': relevant_skills,\n",
    "    'Experience (Months)': experience_months,\n",
    "    'Weekly Hours Available': weekly_hours_available,\n",
    "    'Laptop Availability': laptop_available,\n",
    "    'Constant Internet Access': internet_access,\n",
    "    'Internship Success': success\n",
    "})\n",
    "\n",
    "# Displaying the first few rows of the dataset\n",
    "print(data.head())\n",
    "\n",
    "# Save the simulated dataset to a CSV file\n",
    "data.to_csv(\"simulated_internship_data.csv\", index=False)\n"
   ]
  },
  {
   "cell_type": "markdown",
   "metadata": {},
   "source": [
    "<h2 style=\"text-align: left; color: #3498db;\">Data Pre-processing</h2>\n"
   ]
  },
  {
   "cell_type": "code",
   "execution_count": 42,
   "metadata": {},
   "outputs": [
    {
     "name": "stdout",
     "output_type": "stream",
     "text": [
      "<class 'pandas.core.frame.DataFrame'>\n",
      "RangeIndex: 3000 entries, 0 to 2999\n",
      "Data columns (total 7 columns):\n",
      " #   Column                      Non-Null Count  Dtype  \n",
      "---  ------                      --------------  -----  \n",
      " 0   Academic Performance (GPA)  3000 non-null   float64\n",
      " 1   Relevant Skills (0-10)      3000 non-null   int64  \n",
      " 2   Experience (Months)         3000 non-null   int64  \n",
      " 3   Weekly Hours Available      3000 non-null   int64  \n",
      " 4   Laptop Availability         3000 non-null   int64  \n",
      " 5   Constant Internet Access    3000 non-null   int64  \n",
      " 6   Internship Success          3000 non-null   int64  \n",
      "dtypes: float64(1), int64(6)\n",
      "memory usage: 164.2 KB\n",
      "None\n",
      "<class 'pandas.core.frame.DataFrame'>\n",
      "RangeIndex: 3000 entries, 0 to 2999\n",
      "Data columns (total 7 columns):\n",
      " #   Column                      Non-Null Count  Dtype  \n",
      "---  ------                      --------------  -----  \n",
      " 0   Academic Performance (GPA)  3000 non-null   float64\n",
      " 1   Relevant Skills (0-10)      3000 non-null   int64  \n",
      " 2   Experience (Months)         3000 non-null   int32  \n",
      " 3   Weekly Hours Available      3000 non-null   int64  \n",
      " 4   Laptop Availability         3000 non-null   int64  \n",
      " 5   Constant Internet Access    3000 non-null   int64  \n",
      " 6   Internship Success          3000 non-null   int64  \n",
      "dtypes: float64(1), int32(1), int64(5)\n",
      "memory usage: 152.5 KB\n",
      "None\n",
      "   Academic Performance (GPA)  Relevant Skills (0-10)  Experience (Months)  \\\n",
      "0                    3.436350                       2                   11   \n",
      "1                    4.876786                       8                   33   \n",
      "2                    4.329985                       4                   35   \n",
      "3                    3.996646                       7                   36   \n",
      "4                    2.890047                       6                    2   \n",
      "\n",
      "   Weekly Hours Available  Laptop Availability  Constant Internet Access  \\\n",
      "0                      35                    0                         0   \n",
      "1                      12                    1                         0   \n",
      "2                      12                    1                         0   \n",
      "3                      10                    1                         1   \n",
      "4                      30                    0                         1   \n",
      "\n",
      "   Internship Success  \n",
      "0                   0  \n",
      "1                   0  \n",
      "2                   0  \n",
      "3                   0  \n",
      "4                   0  \n"
     ]
    }
   ],
   "source": [
    "# Loading the simulated dataset\n",
    "data = pd.read_csv(\"simulated_internship_data.csv\")\n",
    "\n",
    "# Displaying basic information about the dataset\n",
    "print(data.info())\n",
    "\n",
    "# Handling missing values (assuming there are no missing values in the simulated dataset)\n",
    "# You can customize this part based on your dataset\n",
    "# Checking for missing values in each column\n",
    "missing_values = data.isnull().sum()\n",
    "\n",
    "# Defining a threshold for missing values (e.g., 10%)\n",
    "missing_threshold = len(data) * 0.1\n",
    "\n",
    "# Listing columns with missing values exceeding the threshold\n",
    "columns_with_missing = missing_values[missing_values > missing_threshold].index\n",
    "\n",
    "# Dropping columns with excessive missing values\n",
    "data_cleaned = data.drop(columns=columns_with_missing)\n",
    "\n",
    "# Checking data types and converting if necessary\n",
    "# For example, ensuring 'Experience (Months)' is of type int\n",
    "data_cleaned['Experience (Months)'] = data_cleaned['Experience (Months)'].astype(int)\n",
    "\n",
    "# Encoding categorical variables (if any)\n",
    "# Here, encoding 'Laptop Availability' and 'Constant Internet Access'\n",
    "label_encoder = LabelEncoder()\n",
    "data_cleaned['Laptop Availability'] = label_encoder.fit_transform(data_cleaned['Laptop Availability'])\n",
    "data_cleaned['Constant Internet Access'] = label_encoder.fit_transform(data_cleaned['Constant Internet Access'])\n",
    "\n",
    "# Displaying basic information about the cleaned dataset\n",
    "print(data_cleaned.info())\n",
    "print(data_cleaned.head())\n",
    "# Saving the cleaned dataset to a new CSV file\n",
    "data_cleaned.to_csv(\"cleaned_internship_data.csv\", index=False)"
   ]
  },
  {
   "cell_type": "markdown",
   "metadata": {},
   "source": [
    "<h2 style=\"text-align: left; color: #3498db;\">Model Development</h2>\n",
    "\n"
   ]
  },
  {
   "cell_type": "code",
   "execution_count": 43,
   "metadata": {},
   "outputs": [
    {
     "name": "stdout",
     "output_type": "stream",
     "text": [
      "Model Performance Metrics:\n",
      "Accuracy: 0.9950\n",
      "Precision: 1.0000\n",
      "Recall: 0.5000\n",
      "\n",
      "Confusion Matrix:\n",
      "[[594   0]\n",
      " [  3   3]]\n"
     ]
    },
    {
     "data": {
      "image/png": "[encoded data removed]",
      "text/plain": [
       "<Figure size 800x600 with 2 Axes>"
      ]
     },
     "metadata": {},
     "output_type": "display_data"
    }
   ],
   "source": [
    "# Loading the simulated dataset\n",
    "data = pd.read_csv(\"cleaned_internship_data.csv\")\n",
    "\n",
    "# Splitting the dataset into features (X) and the target variable (y)\n",
    "X = data.drop(columns=['Internship Success'])\n",
    "y = data['Internship Success']\n",
    "\n",
    "# Splitting the data into training and testing sets (80% for training, 20% for testing)\n",
    "X_train, X_test, y_train, y_test = train_test_split(X, y, test_size=0.2, random_state=42)\n",
    "\n",
    "# Initializing and training the logistic regression model\n",
    "model = LogisticRegression()\n",
    "model.fit(X_train, y_train)\n",
    "\n",
    "# Making predictions on the test set\n",
    "y_pred = model.predict(X_test)\n",
    "\n",
    "# Evaluate the model's performance\n",
    "accuracy = accuracy_score(y_test, y_pred)\n",
    "precision = precision_score(y_test, y_pred)\n",
    "recall = recall_score(y_test, y_pred)\n",
    "conf_matrix = confusion_matrix(y_test, y_pred)\n",
    "\n",
    "# Print out the full list of results\n",
    "print(\"Model Performance Metrics:\")\n",
    "print(f\"Accuracy: {accuracy:.4f}\")\n",
    "print(f\"Precision: {precision:.4f}\")\n",
    "print(f\"Recall: {recall:.4f}\")\n",
    "\n",
    "print(\"\\nConfusion Matrix:\")\n",
    "print(conf_matrix)\n",
    "\n",
    "# Creating a confusion matrix\n",
    "conf_matrix = confusion_matrix(y_test, y_pred)\n",
    "\n",
    "# Displaying the confusion matrix as a heatmap\n",
    "plt.figure(figsize=(8, 6))\n",
    "sns.heatmap(conf_matrix, annot=True, fmt=\"d\", cmap=\"Blues\", xticklabels=[\"Predicted 0\", \"Predicted 1\"], yticklabels=[\"Actual 0\", \"Actual 1\"])\n",
    "plt.xlabel(\"Predicted\")\n",
    "plt.ylabel(\"Actual\")\n",
    "plt.title(\"Confusion Matrix\")\n",
    "plt.show()\n"
   ]
  },
  {
   "cell_type": "markdown",
   "metadata": {},
   "source": [
    "<h2 style=\"text-align: left; color: #3498db;\">Model Optimization </h2>\n"
   ]
  },
  {
   "cell_type": "code",
   "execution_count": 47,
   "metadata": {},
   "outputs": [
    {
     "name": "stderr",
     "output_type": "stream",
     "text": [
      "The max_iter was reached which means the coef_ did not converge\n",
      "The max_iter was reached which means the coef_ did not converge\n",
      "The max_iter was reached which means the coef_ did not converge\n",
      "The max_iter was reached which means the coef_ did not converge\n",
      "The max_iter was reached which means the coef_ did not converge\n",
      "The max_iter was reached which means the coef_ did not converge\n",
      "The max_iter was reached which means the coef_ did not converge\n",
      "The max_iter was reached which means the coef_ did not converge\n",
      "The max_iter was reached which means the coef_ did not converge\n",
      "The max_iter was reached which means the coef_ did not converge\n",
      "The max_iter was reached which means the coef_ did not converge\n",
      "The max_iter was reached which means the coef_ did not converge\n",
      "The max_iter was reached which means the coef_ did not converge\n",
      "The max_iter was reached which means the coef_ did not converge\n",
      "The max_iter was reached which means the coef_ did not converge\n",
      "The max_iter was reached which means the coef_ did not converge\n",
      "The max_iter was reached which means the coef_ did not converge\n",
      "The max_iter was reached which means the coef_ did not converge\n",
      "The max_iter was reached which means the coef_ did not converge\n",
      "The max_iter was reached which means the coef_ did not converge\n",
      "The max_iter was reached which means the coef_ did not converge\n",
      "The max_iter was reached which means the coef_ did not converge\n",
      "The max_iter was reached which means the coef_ did not converge\n",
      "The max_iter was reached which means the coef_ did not converge\n",
      "The max_iter was reached which means the coef_ did not converge\n",
      "The max_iter was reached which means the coef_ did not converge\n",
      "The max_iter was reached which means the coef_ did not converge\n",
      "The max_iter was reached which means the coef_ did not converge\n",
      "The max_iter was reached which means the coef_ did not converge\n",
      "The max_iter was reached which means the coef_ did not converge\n",
      "The max_iter was reached which means the coef_ did not converge\n",
      "The max_iter was reached which means the coef_ did not converge\n",
      "The max_iter was reached which means the coef_ did not converge\n",
      "The max_iter was reached which means the coef_ did not converge\n",
      "The max_iter was reached which means the coef_ did not converge\n",
      "The max_iter was reached which means the coef_ did not converge\n",
      "The max_iter was reached which means the coef_ did not converge\n",
      "The max_iter was reached which means the coef_ did not converge\n",
      "The max_iter was reached which means the coef_ did not converge\n",
      "The max_iter was reached which means the coef_ did not converge\n",
      "The max_iter was reached which means the coef_ did not converge\n",
      "The max_iter was reached which means the coef_ did not converge\n",
      "The max_iter was reached which means the coef_ did not converge\n",
      "The max_iter was reached which means the coef_ did not converge\n",
      "The max_iter was reached which means the coef_ did not converge\n",
      "The max_iter was reached which means the coef_ did not converge\n",
      "The max_iter was reached which means the coef_ did not converge\n",
      "The max_iter was reached which means the coef_ did not converge\n",
      "The max_iter was reached which means the coef_ did not converge\n",
      "The max_iter was reached which means the coef_ did not converge\n",
      "The max_iter was reached which means the coef_ did not converge\n",
      "The max_iter was reached which means the coef_ did not converge\n",
      "The max_iter was reached which means the coef_ did not converge\n",
      "The max_iter was reached which means the coef_ did not converge\n",
      "The max_iter was reached which means the coef_ did not converge\n",
      "The max_iter was reached which means the coef_ did not converge\n",
      "The max_iter was reached which means the coef_ did not converge\n",
      "The max_iter was reached which means the coef_ did not converge\n",
      "The max_iter was reached which means the coef_ did not converge\n",
      "The max_iter was reached which means the coef_ did not converge\n",
      "Using 2400 background data samples could cause slower run times. Consider using shap.sample(data, K) or shap.kmeans(data, K) to summarize the background as K samples.\n"
     ]
    },
    {
     "data": {
      "application/vnd.jupyter.widget-view+json": {
       "model_id": "dade56e25b7e4e82815956c697808886",
       "version_major": 2,
       "version_minor": 0
      },
      "text/plain": [
       "  0%|          | 0/600 [00:00<?, ?it/s]"
      ]
     },
     "metadata": {},
     "output_type": "display_data"
    },
    {
     "data": {
      "image/png": "[encoded data removed]",
      "text/plain": [
       "<Figure size 800x390 with 1 Axes>"
      ]
     },
     "metadata": {},
     "output_type": "display_data"
    }
   ],
   "source": [
    "\n",
    "# Setting a random seed for reproducibility\n",
    "np.random.seed(42)\n",
    "\n",
    "# Loading the cleaned dataset\n",
    "data = pd.read_csv(\"cleaned_internship_data.csv\")\n",
    "\n",
    "# Splitting the dataset into features (X) and the target variable (y)\n",
    "X = data.drop(columns=['Internship Success'])\n",
    "y = data['Internship Success']\n",
    "\n",
    "# Splitting the data into training and testing sets\n",
    "X_train, X_test, y_train, y_test = train_test_split(X, y, test_size=0.2, random_state=42)\n",
    "\n",
    "# Defining hyperparameters to search over\n",
    "param_grid = {\n",
    "    'C': [0.001, 0.01, 0.1, 1, 10, 100],\n",
    "    'solver': ['newton-cg', 'lbfgs', 'liblinear', 'sag', 'saga']\n",
    "}\n",
    "\n",
    "# Creating a logistic regression model\n",
    "logistic_model = LogisticRegression()\n",
    "\n",
    "# Performing grid search with cross-validation\n",
    "grid_search = GridSearchCV(estimator=logistic_model, param_grid=param_grid, cv=5, scoring='accuracy')\n",
    "grid_search.fit(X_train, y_train)\n",
    "\n",
    "# Getting the best hyperparameters\n",
    "best_params = grid_search.best_params_\n",
    "\n",
    "from sklearn.preprocessing import StandardScaler\n",
    "\n",
    "# Scale the features\n",
    "scaler = StandardScaler()\n",
    "X_train_scaled = scaler.fit_transform(X_train)\n",
    "X_test_scaled = scaler.transform(X_test)\n",
    "\n",
    "# Initialize and train the logistic regression model with scaled features\n",
    "best_logistic_model = LogisticRegression(C=best_params['C'], solver=best_params['solver'], max_iter=1000)\n",
    "best_logistic_model.fit(X_train_scaled, y_train)\n",
    "\n",
    "\n",
    "\n",
    "\n",
    "# Explain the model's decisions using SHAP values with KernelExplainer\n",
    "explainer = shap.KernelExplainer(model=best_logistic_model.predict_proba, data=X_train)\n",
    "shap_values = explainer.shap_values(X_test)\n",
    "\n",
    "# Summary plot of SHAP values\n",
    "shap.summary_plot(shap_values, X_test)"
   ]
  },
  {
   "cell_type": "code",
   "execution_count": 32,
   "metadata": {},
   "outputs": [
    {
     "data": {
      "text/plain": [
       "['trained_logistic_model.pkl']"
      ]
     },
     "execution_count": 32,
     "metadata": {},
     "output_type": "execute_result"
    }
   ],
   "source": [
    "# Saving the model to a file named \"trained_logistic_model.pkl\"\n",
    "joblib.dump(best_logistic_model, \"trained_logistic_model.pkl\")"
   ]
  },
  {
   "cell_type": "code",
   "execution_count": null,
   "metadata": {},
   "outputs": [],
   "source": []
  }
 ],
 "metadata": {
  "kernelspec": {
   "display_name": "Python 3",
   "language": "python",
   "name": "python3"
  },
  "language_info": {
   "codemirror_mode": {
    "name": "ipython",
    "version": 3
   },
   "file_extension": ".py",
   "mimetype": "text/x-python",
   "name": "python",
   "nbconvert_exporter": "python",
   "pygments_lexer": "ipython3",
   "version": "3.11.6"
  }
 },
 "nbformat": 4,
 "nbformat_minor": 2
}
